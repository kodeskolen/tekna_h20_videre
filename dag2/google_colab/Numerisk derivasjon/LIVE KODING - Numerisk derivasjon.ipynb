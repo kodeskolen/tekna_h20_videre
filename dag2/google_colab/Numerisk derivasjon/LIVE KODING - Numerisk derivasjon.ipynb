{
 "cells": [
  {
   "cell_type": "markdown",
   "metadata": {
    "slideshow": {
     "slide_type": "-"
    }
   },
   "source": [
    "# Gjennomsnittlig fart, momentan fart og numerisk derivasjon i Python"
   ]
  },
  {
   "cell_type": "markdown",
   "metadata": {
    "slideshow": {
     "slide_type": "-"
    }
   },
   "source": [
    "<img src=\"https://github.com/kodeskolen/tekna_v20/raw/master/dag2/notebooks/Numerisk%20derivasjon/bilder/athletes-running-on-track-and-field-oval-in-grayscale-34514.jpg\" width=\"600px\">\n",
    "\n",
    "# Del 1: Gjennomsnittsfart er strekningen jeg løpte delt på tiden det tok\n",
    "\n",
    "\n",
    "<img src=\"https://github.com/kodeskolen/tekna_v20/raw/master/dag2/notebooks/Numerisk%20derivasjon/bilder/fart_illustrasjon.png\">"
   ]
  },
  {
   "cell_type": "markdown",
   "metadata": {},
   "source": [
    "## Hvis vi har startposisjon og sluttposisjon i tillegg til starttid og sluttid kan vi regne ut gjennomsnittsfarten"
   ]
  },
  {
   "cell_type": "code",
   "execution_count": 5,
   "metadata": {},
   "outputs": [],
   "source": [
    "# Kode for gjennomsnittfart her"
   ]
  },
  {
   "cell_type": "markdown",
   "metadata": {},
   "source": [
    "# Hvis vi vil vite hvordan farten endrer seg underveis trenger vi flere målepunkter\n",
    "\n",
    "Men hva om vi ikke nøyer oss med gjennomsnittfarten. Hva om vi vil vite hva farten min er underveis i løpeturen? Hva gjør vi da?\n",
    "\n",
    "Da må vi rett og slett ta flere mål. La oss si at jeg løper i **tyve sekunder** og noen står med stoppeklokke og måler hvor langt jeg har løpt for **hvert sekund**. For å lage måletidspunktene i Python kan i bruke arange i pylab "
   ]
  },
  {
   "cell_type": "code",
   "execution_count": 2,
   "metadata": {},
   "outputs": [
    {
     "name": "stdout",
     "output_type": "stream",
     "text": [
      "[ 0  1  2  3  4  5  6  7  8  9 10 11 12 13 14 15 16 17 18 19 20]\n"
     ]
    }
   ],
   "source": [
    "# Kode for å lage array med måletidspunkter"
   ]
  },
  {
   "cell_type": "markdown",
   "metadata": {},
   "source": [
    "### Oppgave 1 a) Tolke kode\n",
    "Se på koden i cella over og svar på følgende spørsmål:\n",
    "* Hva gjør hver linje?\n",
    "* Hva slags effekt har tallene 0, 21 og 1 på koden? Hva vil skje dersom du endrer dem?"
   ]
  },
  {
   "cell_type": "markdown",
   "metadata": {},
   "source": [
    "Vi trenger også avstanden min på de ulike tidspunktene. La oss si at avstanden jeg har løpt er gitt ved funksjonen\n",
    "$$ f(t) =\\frac{10}{1 + e^{10 - t}}. $$"
   ]
  },
  {
   "cell_type": "markdown",
   "metadata": {},
   "source": [
    "### Oppgave 1 b) Funksjon for avstand\n",
    "Lag en funksjon `f(t)` som tar inn et tidspunkt og returnerer avstand gitt av uttrykket over (hint for å regne ut $e^x$ kan du bruke `exp(x)` funksjonen fra pylab."
   ]
  },
  {
   "cell_type": "code",
   "execution_count": 3,
   "metadata": {},
   "outputs": [],
   "source": [
    "# Fyll inn funksjonen her"
   ]
  },
  {
   "cell_type": "markdown",
   "metadata": {},
   "source": [
    "### Oppgave 1c) Finne avstandene på måletidspunktene \n",
    "Bruk funksjonen over til å finne måletidspunktene "
   ]
  },
  {
   "cell_type": "code",
   "execution_count": null,
   "metadata": {},
   "outputs": [],
   "source": [
    "# Fyll inn koden\n",
    "måledistanser = ...\n",
    "print(måledistanser)"
   ]
  },
  {
   "cell_type": "markdown",
   "metadata": {},
   "source": [
    "Nå kan vi plotte løpeturen min med plot funksjonen"
   ]
  },
  {
   "cell_type": "markdown",
   "metadata": {},
   "source": [
    "### Oppgave 1d) Plotte strekningsmålinene mot tidsmålingene\n",
    "\n",
    "Fyll inn cella under slik at den bruker `plot` til å tegne et plot av strekningsmålingene mot tidsmålingene"
   ]
  },
  {
   "cell_type": "code",
   "execution_count": null,
   "metadata": {},
   "outputs": [],
   "source": [
    "# Din kode her\n",
    "\n",
    "title('Løpetur')\n",
    "xlabel('Tid')\n",
    "ylabel('Distanse')\n",
    "show()"
   ]
  },
  {
   "cell_type": "markdown",
   "metadata": {},
   "source": [
    "### Oppgave 1e) Refleksjonsoppgave\n",
    "Når løpte jeg raskest? Etter 0 sekunder, etter 10 sekunder eller etter 15?"
   ]
  },
  {
   "cell_type": "markdown",
   "metadata": {},
   "source": [
    "# Del 2: Hva er farten min underveis i turen?\n",
    "<img src=\"https://github.com/kodeskolen/tekna_v20/raw/master/dag2/notebooks/Numerisk%20derivasjon/bilder/stoppeklokker.png\" width=\"600px\">"
   ]
  },
  {
   "cell_type": "code",
   "execution_count": 6,
   "metadata": {},
   "outputs": [],
   "source": [
    "# Kode for å utforske momentanfart her"
   ]
  },
  {
   "cell_type": "markdown",
   "metadata": {},
   "source": [
    "<center>\n",
    "    <img src=\"https://github.com/kodeskolen/tekna_v20/raw/master/dag2/notebooks/Numerisk%20derivasjon/bilder/pexels-photo-3425443.jpeg\" width=\"200px\" style=\"display: inline\" />\n",
    "    <img src=\"https://github.com/kodeskolen/tekna_v20/raw/master/dag2/notebooks/Numerisk%20derivasjon/bilder/athletes-running-on-track-and-field-oval-in-grayscale-34514.jpg\" width=\"400px\" style=\"display: inline\">\n",
    "</center>"
   ]
  },
  {
   "cell_type": "markdown",
   "metadata": {},
   "source": [
    "# Vi kan regne ut en verdi for farten for hvert tidspunkt"
   ]
  },
  {
   "cell_type": "code",
   "execution_count": 3,
   "metadata": {},
   "outputs": [],
   "source": [
    "# Kode for å lage plot av farten for hvert tidspunkt her"
   ]
  },
  {
   "cell_type": "markdown",
   "metadata": {},
   "source": [
    "Dette stemmer fint med intuisjonen vår fra istad. Til å begynne med er farten lav, så øker den før den går ned til 0 igjen. La oss endre `dt` variabelen og se hva effekten av å endre den er."
   ]
  },
  {
   "cell_type": "markdown",
   "metadata": {},
   "source": [
    "## Oppgave 2\n",
    "Modifiser cellen over til å lage en slider for `dt`. \n",
    "Uforsk hva som skjer med plottet når du enderer størrelsen på `dt` til å være større og mindre enn `1`. "
   ]
  },
  {
   "cell_type": "code",
   "execution_count": null,
   "metadata": {},
   "outputs": [],
   "source": []
  },
  {
   "cell_type": "markdown",
   "metadata": {},
   "source": [
    "## Vi kan lage en funksjon som tar inn en array av avstandsmålinger og hvort stort tidsinterval som er mellom dem og spytter ut den tilhørende farten"
   ]
  },
  {
   "cell_type": "code",
   "execution_count": 4,
   "metadata": {},
   "outputs": [],
   "source": [
    "def deriver(avstandsmålinger, dt):\n",
    "    # Ta inn array av avstandsmålinger og dt\n",
    "    # returner tilhørende fart\n",
    "    \n",
    "    antall_målinger = len(avstandsmålinger)\n",
    "    fart = zeros(antall_målinger-1)\n",
    "    \n",
    "    for t in range(antall_målinger-1):\n",
    "        fart[t] = (avstandsmålinger[t+1] - avstandsmålinger[t])/dt\n",
    "        \n",
    "    return fart"
   ]
  },
  {
   "cell_type": "markdown",
   "metadata": {},
   "source": [
    "# Del 2.5: Derivere vanskelige funksjoner"
   ]
  },
  {
   "cell_type": "markdown",
   "metadata": {},
   "source": [
    "Nå kan vi bruke funksjonen til å derivere hvilken som helst funksjon, så lenge vi har en array med målinger. cellen under lager først et plot av $g(x) = cos(x) + x$ for $x = 0 - 10$. Så deriverer vi den og plotter den deriverte under i et eget plot"
   ]
  },
  {
   "cell_type": "code",
   "execution_count": 11,
   "metadata": {},
   "outputs": [
    {
     "data": {
      "image/png": "[encoded data removed]",
      "text/plain": [
       "<Figure size 432x288 with 1 Axes>"
      ]
     },
     "metadata": {
      "needs_background": "light"
     },
     "output_type": "display_data"
    },
    {
     "data": {
      "image/png": "[encoded data removed]",
      "text/plain": [
       "<Figure size 432x288 with 1 Axes>"
      ]
     },
     "metadata": {
      "needs_background": "light"
     },
     "output_type": "display_data"
    }
   ],
   "source": [
    "from pylab import *\n",
    "\n",
    "# Definere funksjonen som skal deriveres\n",
    "def g(x):\n",
    "    return cos(x)+x \n",
    "\n",
    "# Definere størrelsen på tidsintervallet (dt)\n",
    "dt = 0.1\n",
    "\n",
    "# Lage arrayer med 'måletidspunkt' og 'målinger'\n",
    "x_verdier = arange(0, 10, dt)\n",
    "y_verdier = g(x_verdier)\n",
    "\n",
    "# Tegne plot av funksjonen\n",
    "plot(x_verdier, y_verdier)\n",
    "title('g(x)')\n",
    "show()\n",
    "\n",
    "# Bruke numerisk derivasjon til å derivere funksjonen\n",
    "fart_verdier = deriver(y_verdier, dt)\n",
    "\n",
    "# Tegne plot av den deriverte\n",
    "plot(x_verdier[:-1], fart_verdier)\n",
    "title('deriverte til g(x)')\n",
    "show()"
   ]
  },
  {
   "cell_type": "markdown",
   "metadata": {},
   "source": [
    "### Oppgave 3a)\n",
    "Endre cellen under til å i stedet derivere funksjonen \n",
    "\n",
    "$$ g(x) = (sin(x) + 1)^x $$\n",
    "\n",
    "### Oppgave 3b)\n",
    "Endre Ender cellen over slik at du deriverer sigmoiden\n",
    "\n",
    "$$ f(t) =\\frac{10}{1 + e^{10 - t}}. $$\n",
    "\n",
    "to ganger. Du skal altså produsere 3 plot. et av $f(t)$ for $t = 0-20$. ett for den deriverte av $f(t)$, $f'(t)$, for $t=1-20$ og et for den dobbelt deriverte av $f(t)$ ,$f''(t)$, for  $t = 1-20$\n",
    "Hva slags fysisk tolkning har den dobbeltderiverte for løpeturen min?"
   ]
  },
  {
   "cell_type": "markdown",
   "metadata": {},
   "source": [
    "# Del 3: Med numerisk derivasjon kan vi derivere hvilken som helst matematisk funksjon"
   ]
  },
  {
   "cell_type": "markdown",
   "metadata": {},
   "source": [
    "# Med numerisk derivasjon kan vi derivere ekte data"
   ]
  },
  {
   "cell_type": "code",
   "execution_count": 1,
   "metadata": {},
   "outputs": [
    {
     "name": "stdout",
     "output_type": "stream",
     "text": [
      "Requirement already satisfied: distanse_finner in c:\\users\\marie\\dropbox\\programming\\ssri\\distanse_finner\\src (0.0.7)\n"
     ]
    }
   ],
   "source": [
    "# Her installerer vi distanse_finner pakken som lar oss regne ut hvor langt vi har\n",
    "# bevegd oss fra GPS data.\n",
    "!pip install distanse_finner --user"
   ]
  },
  {
   "cell_type": "code",
   "execution_count": null,
   "metadata": {},
   "outputs": [],
   "source": [
    "from distanse_finner import last_uniform_data"
   ]
  },
  {
   "cell_type": "code",
   "execution_count": 6,
   "metadata": {},
   "outputs": [],
   "source": [
    "dt_s = 5  # Fem sekund mellom hver måling\n",
    "data_url = 'https://github.com/kodeskolen/tekna_v20/raw/master/dag2/notebooks/Numerisk%20derivasjon/20200516.csv'\n",
    "tidspunkt_s, avstander_km = last_uniform_data(data_url, dt_s)\n",
    "\n",
    "# Kode for å laste inn avstandsdata"
   ]
  },
  {
   "cell_type": "code",
   "execution_count": 7,
   "metadata": {},
   "outputs": [],
   "source": [
    "# Kode for å plotte den deriverte avstandsdataen"
   ]
  }
 ],
 "metadata": {
  "kernelspec": {
   "display_name": "Python 3",
   "language": "python",
   "name": "python3"
  },
  "language_info": {
   "codemirror_mode": {
    "name": "ipython",
    "version": 3
   },
   "file_extension": ".py",
   "mimetype": "text/x-python",
   "name": "python",
   "nbconvert_exporter": "python",
   "pygments_lexer": "ipython3",
   "version": "3.7.4"
  }
 },
 "nbformat": 4,
 "nbformat_minor": 2
}
